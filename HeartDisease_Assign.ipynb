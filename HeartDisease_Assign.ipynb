{
 "cells": [
  {
   "cell_type": "code",
   "execution_count": 1,
   "id": "2b7feec3-f6ba-4550-9464-c3c3c7ae8c37",
   "metadata": {},
   "outputs": [],
   "source": [
    "import numpy as np\n",
    "import pandas as pd\n",
    "import matplotlib.pyplot as plt\n",
    "import seaborn as sns\n",
    "\n",
    "import warnings\n",
    "warnings.filterwarnings(\"ignore\")\n",
    "\n",
    "from sklearn.model_selection import train_test_split\n",
    "from sklearn.metrics import classification_report,accuracy_score\n",
    "\n",
    "from sklearn.linear_model import LogisticRegression\n",
    "from sklearn.svm import SVC\n",
    "from sklearn.tree import DecisionTreeClassifier"
   ]
  },
  {
   "cell_type": "code",
   "execution_count": 2,
   "id": "144c4636-ca98-4921-9060-bfa10bdf9780",
   "metadata": {},
   "outputs": [],
   "source": [
    "df=pd.read_csv(\"HeartDisease.csv\")"
   ]
  },
  {
   "cell_type": "code",
   "execution_count": 3,
   "id": "36c0ffeb-f078-49de-bbde-d37b914c7626",
   "metadata": {},
   "outputs": [
    {
     "data": {
      "text/html": [
       "<div>\n",
       "<style scoped>\n",
       "    .dataframe tbody tr th:only-of-type {\n",
       "        vertical-align: middle;\n",
       "    }\n",
       "\n",
       "    .dataframe tbody tr th {\n",
       "        vertical-align: top;\n",
       "    }\n",
       "\n",
       "    .dataframe thead th {\n",
       "        text-align: right;\n",
       "    }\n",
       "</style>\n",
       "<table border=\"1\" class=\"dataframe\">\n",
       "  <thead>\n",
       "    <tr style=\"text-align: right;\">\n",
       "      <th></th>\n",
       "      <th>age</th>\n",
       "      <th>gender</th>\n",
       "      <th>chest_pain</th>\n",
       "      <th>rest_bps</th>\n",
       "      <th>cholestrol</th>\n",
       "      <th>fasting_blood_sugar</th>\n",
       "      <th>rest_ecg</th>\n",
       "      <th>thalach</th>\n",
       "      <th>exer_angina</th>\n",
       "      <th>old_peak</th>\n",
       "      <th>slope</th>\n",
       "      <th>ca</th>\n",
       "      <th>thalassemia</th>\n",
       "      <th>target</th>\n",
       "    </tr>\n",
       "  </thead>\n",
       "  <tbody>\n",
       "    <tr>\n",
       "      <th>0</th>\n",
       "      <td>63</td>\n",
       "      <td>1</td>\n",
       "      <td>3</td>\n",
       "      <td>145</td>\n",
       "      <td>233</td>\n",
       "      <td>1</td>\n",
       "      <td>0</td>\n",
       "      <td>150</td>\n",
       "      <td>0</td>\n",
       "      <td>2.3</td>\n",
       "      <td>0</td>\n",
       "      <td>0</td>\n",
       "      <td>1</td>\n",
       "      <td>1</td>\n",
       "    </tr>\n",
       "    <tr>\n",
       "      <th>1</th>\n",
       "      <td>37</td>\n",
       "      <td>1</td>\n",
       "      <td>2</td>\n",
       "      <td>130</td>\n",
       "      <td>250</td>\n",
       "      <td>0</td>\n",
       "      <td>1</td>\n",
       "      <td>187</td>\n",
       "      <td>0</td>\n",
       "      <td>3.5</td>\n",
       "      <td>0</td>\n",
       "      <td>0</td>\n",
       "      <td>2</td>\n",
       "      <td>1</td>\n",
       "    </tr>\n",
       "    <tr>\n",
       "      <th>2</th>\n",
       "      <td>41</td>\n",
       "      <td>0</td>\n",
       "      <td>1</td>\n",
       "      <td>130</td>\n",
       "      <td>204</td>\n",
       "      <td>0</td>\n",
       "      <td>0</td>\n",
       "      <td>172</td>\n",
       "      <td>0</td>\n",
       "      <td>1.4</td>\n",
       "      <td>2</td>\n",
       "      <td>0</td>\n",
       "      <td>2</td>\n",
       "      <td>1</td>\n",
       "    </tr>\n",
       "    <tr>\n",
       "      <th>3</th>\n",
       "      <td>56</td>\n",
       "      <td>1</td>\n",
       "      <td>1</td>\n",
       "      <td>120</td>\n",
       "      <td>236</td>\n",
       "      <td>0</td>\n",
       "      <td>1</td>\n",
       "      <td>178</td>\n",
       "      <td>0</td>\n",
       "      <td>0.8</td>\n",
       "      <td>2</td>\n",
       "      <td>0</td>\n",
       "      <td>2</td>\n",
       "      <td>1</td>\n",
       "    </tr>\n",
       "    <tr>\n",
       "      <th>4</th>\n",
       "      <td>57</td>\n",
       "      <td>0</td>\n",
       "      <td>0</td>\n",
       "      <td>120</td>\n",
       "      <td>354</td>\n",
       "      <td>0</td>\n",
       "      <td>1</td>\n",
       "      <td>163</td>\n",
       "      <td>1</td>\n",
       "      <td>0.6</td>\n",
       "      <td>2</td>\n",
       "      <td>0</td>\n",
       "      <td>2</td>\n",
       "      <td>1</td>\n",
       "    </tr>\n",
       "    <tr>\n",
       "      <th>...</th>\n",
       "      <td>...</td>\n",
       "      <td>...</td>\n",
       "      <td>...</td>\n",
       "      <td>...</td>\n",
       "      <td>...</td>\n",
       "      <td>...</td>\n",
       "      <td>...</td>\n",
       "      <td>...</td>\n",
       "      <td>...</td>\n",
       "      <td>...</td>\n",
       "      <td>...</td>\n",
       "      <td>...</td>\n",
       "      <td>...</td>\n",
       "      <td>...</td>\n",
       "    </tr>\n",
       "    <tr>\n",
       "      <th>298</th>\n",
       "      <td>57</td>\n",
       "      <td>0</td>\n",
       "      <td>0</td>\n",
       "      <td>140</td>\n",
       "      <td>241</td>\n",
       "      <td>0</td>\n",
       "      <td>1</td>\n",
       "      <td>123</td>\n",
       "      <td>1</td>\n",
       "      <td>0.2</td>\n",
       "      <td>1</td>\n",
       "      <td>0</td>\n",
       "      <td>3</td>\n",
       "      <td>0</td>\n",
       "    </tr>\n",
       "    <tr>\n",
       "      <th>299</th>\n",
       "      <td>45</td>\n",
       "      <td>1</td>\n",
       "      <td>3</td>\n",
       "      <td>110</td>\n",
       "      <td>264</td>\n",
       "      <td>0</td>\n",
       "      <td>1</td>\n",
       "      <td>132</td>\n",
       "      <td>0</td>\n",
       "      <td>1.2</td>\n",
       "      <td>1</td>\n",
       "      <td>0</td>\n",
       "      <td>3</td>\n",
       "      <td>0</td>\n",
       "    </tr>\n",
       "    <tr>\n",
       "      <th>300</th>\n",
       "      <td>68</td>\n",
       "      <td>1</td>\n",
       "      <td>0</td>\n",
       "      <td>144</td>\n",
       "      <td>193</td>\n",
       "      <td>1</td>\n",
       "      <td>1</td>\n",
       "      <td>141</td>\n",
       "      <td>0</td>\n",
       "      <td>3.4</td>\n",
       "      <td>1</td>\n",
       "      <td>2</td>\n",
       "      <td>3</td>\n",
       "      <td>0</td>\n",
       "    </tr>\n",
       "    <tr>\n",
       "      <th>301</th>\n",
       "      <td>57</td>\n",
       "      <td>1</td>\n",
       "      <td>0</td>\n",
       "      <td>130</td>\n",
       "      <td>131</td>\n",
       "      <td>0</td>\n",
       "      <td>1</td>\n",
       "      <td>115</td>\n",
       "      <td>1</td>\n",
       "      <td>1.2</td>\n",
       "      <td>1</td>\n",
       "      <td>1</td>\n",
       "      <td>3</td>\n",
       "      <td>0</td>\n",
       "    </tr>\n",
       "    <tr>\n",
       "      <th>302</th>\n",
       "      <td>57</td>\n",
       "      <td>0</td>\n",
       "      <td>1</td>\n",
       "      <td>130</td>\n",
       "      <td>236</td>\n",
       "      <td>0</td>\n",
       "      <td>0</td>\n",
       "      <td>174</td>\n",
       "      <td>0</td>\n",
       "      <td>0.0</td>\n",
       "      <td>1</td>\n",
       "      <td>1</td>\n",
       "      <td>2</td>\n",
       "      <td>0</td>\n",
       "    </tr>\n",
       "  </tbody>\n",
       "</table>\n",
       "<p>303 rows × 14 columns</p>\n",
       "</div>"
      ],
      "text/plain": [
       "     age  gender  chest_pain  rest_bps  cholestrol  fasting_blood_sugar  \\\n",
       "0     63       1           3       145         233                    1   \n",
       "1     37       1           2       130         250                    0   \n",
       "2     41       0           1       130         204                    0   \n",
       "3     56       1           1       120         236                    0   \n",
       "4     57       0           0       120         354                    0   \n",
       "..   ...     ...         ...       ...         ...                  ...   \n",
       "298   57       0           0       140         241                    0   \n",
       "299   45       1           3       110         264                    0   \n",
       "300   68       1           0       144         193                    1   \n",
       "301   57       1           0       130         131                    0   \n",
       "302   57       0           1       130         236                    0   \n",
       "\n",
       "     rest_ecg  thalach  exer_angina  old_peak  slope  ca  thalassemia  target  \n",
       "0           0      150            0       2.3      0   0            1       1  \n",
       "1           1      187            0       3.5      0   0            2       1  \n",
       "2           0      172            0       1.4      2   0            2       1  \n",
       "3           1      178            0       0.8      2   0            2       1  \n",
       "4           1      163            1       0.6      2   0            2       1  \n",
       "..        ...      ...          ...       ...    ...  ..          ...     ...  \n",
       "298         1      123            1       0.2      1   0            3       0  \n",
       "299         1      132            0       1.2      1   0            3       0  \n",
       "300         1      141            0       3.4      1   2            3       0  \n",
       "301         1      115            1       1.2      1   1            3       0  \n",
       "302         0      174            0       0.0      1   1            2       0  \n",
       "\n",
       "[303 rows x 14 columns]"
      ]
     },
     "execution_count": 3,
     "metadata": {},
     "output_type": "execute_result"
    }
   ],
   "source": [
    "df"
   ]
  },
  {
   "cell_type": "code",
   "execution_count": 4,
   "id": "99a49c4a-5e72-476d-9f70-66dec03aa180",
   "metadata": {},
   "outputs": [
    {
     "name": "stdout",
     "output_type": "stream",
     "text": [
      "<class 'pandas.core.frame.DataFrame'>\n",
      "RangeIndex: 303 entries, 0 to 302\n",
      "Data columns (total 14 columns):\n",
      " #   Column               Non-Null Count  Dtype  \n",
      "---  ------               --------------  -----  \n",
      " 0   age                  303 non-null    int64  \n",
      " 1   gender               303 non-null    int64  \n",
      " 2   chest_pain           303 non-null    int64  \n",
      " 3   rest_bps             303 non-null    int64  \n",
      " 4   cholestrol           303 non-null    int64  \n",
      " 5   fasting_blood_sugar  303 non-null    int64  \n",
      " 6   rest_ecg             303 non-null    int64  \n",
      " 7   thalach              303 non-null    int64  \n",
      " 8   exer_angina          303 non-null    int64  \n",
      " 9   old_peak             303 non-null    float64\n",
      " 10  slope                303 non-null    int64  \n",
      " 11  ca                   303 non-null    int64  \n",
      " 12  thalassemia          303 non-null    int64  \n",
      " 13  target               303 non-null    int64  \n",
      "dtypes: float64(1), int64(13)\n",
      "memory usage: 33.3 KB\n"
     ]
    }
   ],
   "source": [
    "df.info()"
   ]
  },
  {
   "cell_type": "code",
   "execution_count": 7,
   "id": "9a2691ab-02d8-487f-ace6-33432c1f3af4",
   "metadata": {},
   "outputs": [],
   "source": [
    "#separation of x and y\n",
    "\n",
    "x=df.iloc[:,:-1]\n",
    "y=df[\"target\"]"
   ]
  },
  {
   "cell_type": "code",
   "execution_count": 8,
   "id": "f8abbc89-1c15-468c-ad2a-412d38de6c18",
   "metadata": {},
   "outputs": [
    {
     "data": {
      "text/html": [
       "<div>\n",
       "<style scoped>\n",
       "    .dataframe tbody tr th:only-of-type {\n",
       "        vertical-align: middle;\n",
       "    }\n",
       "\n",
       "    .dataframe tbody tr th {\n",
       "        vertical-align: top;\n",
       "    }\n",
       "\n",
       "    .dataframe thead th {\n",
       "        text-align: right;\n",
       "    }\n",
       "</style>\n",
       "<table border=\"1\" class=\"dataframe\">\n",
       "  <thead>\n",
       "    <tr style=\"text-align: right;\">\n",
       "      <th></th>\n",
       "      <th>age</th>\n",
       "      <th>gender</th>\n",
       "      <th>chest_pain</th>\n",
       "      <th>rest_bps</th>\n",
       "      <th>cholestrol</th>\n",
       "      <th>fasting_blood_sugar</th>\n",
       "      <th>rest_ecg</th>\n",
       "      <th>thalach</th>\n",
       "      <th>exer_angina</th>\n",
       "      <th>old_peak</th>\n",
       "      <th>slope</th>\n",
       "      <th>ca</th>\n",
       "      <th>thalassemia</th>\n",
       "    </tr>\n",
       "  </thead>\n",
       "  <tbody>\n",
       "    <tr>\n",
       "      <th>0</th>\n",
       "      <td>63</td>\n",
       "      <td>1</td>\n",
       "      <td>3</td>\n",
       "      <td>145</td>\n",
       "      <td>233</td>\n",
       "      <td>1</td>\n",
       "      <td>0</td>\n",
       "      <td>150</td>\n",
       "      <td>0</td>\n",
       "      <td>2.3</td>\n",
       "      <td>0</td>\n",
       "      <td>0</td>\n",
       "      <td>1</td>\n",
       "    </tr>\n",
       "    <tr>\n",
       "      <th>1</th>\n",
       "      <td>37</td>\n",
       "      <td>1</td>\n",
       "      <td>2</td>\n",
       "      <td>130</td>\n",
       "      <td>250</td>\n",
       "      <td>0</td>\n",
       "      <td>1</td>\n",
       "      <td>187</td>\n",
       "      <td>0</td>\n",
       "      <td>3.5</td>\n",
       "      <td>0</td>\n",
       "      <td>0</td>\n",
       "      <td>2</td>\n",
       "    </tr>\n",
       "    <tr>\n",
       "      <th>2</th>\n",
       "      <td>41</td>\n",
       "      <td>0</td>\n",
       "      <td>1</td>\n",
       "      <td>130</td>\n",
       "      <td>204</td>\n",
       "      <td>0</td>\n",
       "      <td>0</td>\n",
       "      <td>172</td>\n",
       "      <td>0</td>\n",
       "      <td>1.4</td>\n",
       "      <td>2</td>\n",
       "      <td>0</td>\n",
       "      <td>2</td>\n",
       "    </tr>\n",
       "    <tr>\n",
       "      <th>3</th>\n",
       "      <td>56</td>\n",
       "      <td>1</td>\n",
       "      <td>1</td>\n",
       "      <td>120</td>\n",
       "      <td>236</td>\n",
       "      <td>0</td>\n",
       "      <td>1</td>\n",
       "      <td>178</td>\n",
       "      <td>0</td>\n",
       "      <td>0.8</td>\n",
       "      <td>2</td>\n",
       "      <td>0</td>\n",
       "      <td>2</td>\n",
       "    </tr>\n",
       "    <tr>\n",
       "      <th>4</th>\n",
       "      <td>57</td>\n",
       "      <td>0</td>\n",
       "      <td>0</td>\n",
       "      <td>120</td>\n",
       "      <td>354</td>\n",
       "      <td>0</td>\n",
       "      <td>1</td>\n",
       "      <td>163</td>\n",
       "      <td>1</td>\n",
       "      <td>0.6</td>\n",
       "      <td>2</td>\n",
       "      <td>0</td>\n",
       "      <td>2</td>\n",
       "    </tr>\n",
       "    <tr>\n",
       "      <th>...</th>\n",
       "      <td>...</td>\n",
       "      <td>...</td>\n",
       "      <td>...</td>\n",
       "      <td>...</td>\n",
       "      <td>...</td>\n",
       "      <td>...</td>\n",
       "      <td>...</td>\n",
       "      <td>...</td>\n",
       "      <td>...</td>\n",
       "      <td>...</td>\n",
       "      <td>...</td>\n",
       "      <td>...</td>\n",
       "      <td>...</td>\n",
       "    </tr>\n",
       "    <tr>\n",
       "      <th>298</th>\n",
       "      <td>57</td>\n",
       "      <td>0</td>\n",
       "      <td>0</td>\n",
       "      <td>140</td>\n",
       "      <td>241</td>\n",
       "      <td>0</td>\n",
       "      <td>1</td>\n",
       "      <td>123</td>\n",
       "      <td>1</td>\n",
       "      <td>0.2</td>\n",
       "      <td>1</td>\n",
       "      <td>0</td>\n",
       "      <td>3</td>\n",
       "    </tr>\n",
       "    <tr>\n",
       "      <th>299</th>\n",
       "      <td>45</td>\n",
       "      <td>1</td>\n",
       "      <td>3</td>\n",
       "      <td>110</td>\n",
       "      <td>264</td>\n",
       "      <td>0</td>\n",
       "      <td>1</td>\n",
       "      <td>132</td>\n",
       "      <td>0</td>\n",
       "      <td>1.2</td>\n",
       "      <td>1</td>\n",
       "      <td>0</td>\n",
       "      <td>3</td>\n",
       "    </tr>\n",
       "    <tr>\n",
       "      <th>300</th>\n",
       "      <td>68</td>\n",
       "      <td>1</td>\n",
       "      <td>0</td>\n",
       "      <td>144</td>\n",
       "      <td>193</td>\n",
       "      <td>1</td>\n",
       "      <td>1</td>\n",
       "      <td>141</td>\n",
       "      <td>0</td>\n",
       "      <td>3.4</td>\n",
       "      <td>1</td>\n",
       "      <td>2</td>\n",
       "      <td>3</td>\n",
       "    </tr>\n",
       "    <tr>\n",
       "      <th>301</th>\n",
       "      <td>57</td>\n",
       "      <td>1</td>\n",
       "      <td>0</td>\n",
       "      <td>130</td>\n",
       "      <td>131</td>\n",
       "      <td>0</td>\n",
       "      <td>1</td>\n",
       "      <td>115</td>\n",
       "      <td>1</td>\n",
       "      <td>1.2</td>\n",
       "      <td>1</td>\n",
       "      <td>1</td>\n",
       "      <td>3</td>\n",
       "    </tr>\n",
       "    <tr>\n",
       "      <th>302</th>\n",
       "      <td>57</td>\n",
       "      <td>0</td>\n",
       "      <td>1</td>\n",
       "      <td>130</td>\n",
       "      <td>236</td>\n",
       "      <td>0</td>\n",
       "      <td>0</td>\n",
       "      <td>174</td>\n",
       "      <td>0</td>\n",
       "      <td>0.0</td>\n",
       "      <td>1</td>\n",
       "      <td>1</td>\n",
       "      <td>2</td>\n",
       "    </tr>\n",
       "  </tbody>\n",
       "</table>\n",
       "<p>303 rows × 13 columns</p>\n",
       "</div>"
      ],
      "text/plain": [
       "     age  gender  chest_pain  rest_bps  cholestrol  fasting_blood_sugar  \\\n",
       "0     63       1           3       145         233                    1   \n",
       "1     37       1           2       130         250                    0   \n",
       "2     41       0           1       130         204                    0   \n",
       "3     56       1           1       120         236                    0   \n",
       "4     57       0           0       120         354                    0   \n",
       "..   ...     ...         ...       ...         ...                  ...   \n",
       "298   57       0           0       140         241                    0   \n",
       "299   45       1           3       110         264                    0   \n",
       "300   68       1           0       144         193                    1   \n",
       "301   57       1           0       130         131                    0   \n",
       "302   57       0           1       130         236                    0   \n",
       "\n",
       "     rest_ecg  thalach  exer_angina  old_peak  slope  ca  thalassemia  \n",
       "0           0      150            0       2.3      0   0            1  \n",
       "1           1      187            0       3.5      0   0            2  \n",
       "2           0      172            0       1.4      2   0            2  \n",
       "3           1      178            0       0.8      2   0            2  \n",
       "4           1      163            1       0.6      2   0            2  \n",
       "..        ...      ...          ...       ...    ...  ..          ...  \n",
       "298         1      123            1       0.2      1   0            3  \n",
       "299         1      132            0       1.2      1   0            3  \n",
       "300         1      141            0       3.4      1   2            3  \n",
       "301         1      115            1       1.2      1   1            3  \n",
       "302         0      174            0       0.0      1   1            2  \n",
       "\n",
       "[303 rows x 13 columns]"
      ]
     },
     "execution_count": 8,
     "metadata": {},
     "output_type": "execute_result"
    }
   ],
   "source": [
    "x"
   ]
  },
  {
   "cell_type": "code",
   "execution_count": 9,
   "id": "fc22ee07-e4be-4db2-9cba-db69b4575f6e",
   "metadata": {},
   "outputs": [
    {
     "data": {
      "text/plain": [
       "0      1\n",
       "1      1\n",
       "2      1\n",
       "3      1\n",
       "4      1\n",
       "      ..\n",
       "298    0\n",
       "299    0\n",
       "300    0\n",
       "301    0\n",
       "302    0\n",
       "Name: target, Length: 303, dtype: int64"
      ]
     },
     "execution_count": 9,
     "metadata": {},
     "output_type": "execute_result"
    }
   ],
   "source": [
    "y"
   ]
  },
  {
   "cell_type": "code",
   "execution_count": 10,
   "id": "e7f535bf-5825-4449-88c9-e689fad3caeb",
   "metadata": {},
   "outputs": [
    {
     "data": {
      "text/plain": [
       "target\n",
       "1    165\n",
       "0    138\n",
       "Name: count, dtype: int64"
      ]
     },
     "execution_count": 10,
     "metadata": {},
     "output_type": "execute_result"
    }
   ],
   "source": [
    "df['target'].value_counts()"
   ]
  },
  {
   "cell_type": "code",
   "execution_count": 11,
   "id": "609a4c6b-35e2-4842-9830-e0e1a141f5c8",
   "metadata": {},
   "outputs": [],
   "source": [
    "xtrain,xtest,ytrain,ytest=train_test_split(x,y,test_size=0.30,random_state=42)"
   ]
  },
  {
   "cell_type": "code",
   "execution_count": 12,
   "id": "b9581e40-2294-4bea-9580-fc3288fb8232",
   "metadata": {},
   "outputs": [],
   "source": [
    "lr=LogisticRegression()    #create two object lr and dt\n",
    "\n",
    "dt=DecisionTreeClassifier()\n"
   ]
  },
  {
   "cell_type": "code",
   "execution_count": 13,
   "id": "58ceaefc-1345-48fa-b8ec-da7260c76103",
   "metadata": {},
   "outputs": [],
   "source": [
    "#calling all function\n",
    "\n",
    "def mymodel(m):\n",
    "    m.fit(xtrain,ytrain)\n",
    "    ypred=m.predict(xtest)\n",
    "    ac=accuracy_score(ytest,ypred)\n",
    "    cr=classification_report(ytest,ypred)\n",
    "    print(f\"Accuracy:  {ac} \\n \\n Classification Report: \\n {cr}\")"
   ]
  },
  {
   "cell_type": "code",
   "execution_count": 14,
   "id": "9ff32daa-1e14-4ff5-a716-fca88c818cfd",
   "metadata": {},
   "outputs": [
    {
     "name": "stdout",
     "output_type": "stream",
     "text": [
      "Accuracy:  0.8131868131868132 \n",
      " \n",
      " Classification Report: \n",
      "               precision    recall  f1-score   support\n",
      "\n",
      "           0       0.80      0.78      0.79        41\n",
      "           1       0.82      0.84      0.83        50\n",
      "\n",
      "    accuracy                           0.81        91\n",
      "   macro avg       0.81      0.81      0.81        91\n",
      "weighted avg       0.81      0.81      0.81        91\n",
      "\n"
     ]
    }
   ],
   "source": [
    "mymodel(lr)"
   ]
  },
  {
   "cell_type": "code",
   "execution_count": 15,
   "id": "b973b92f-1a5e-4c46-be25-73df6e8599d8",
   "metadata": {},
   "outputs": [
    {
     "name": "stdout",
     "output_type": "stream",
     "text": [
      "Accuracy:  0.7362637362637363 \n",
      " \n",
      " Classification Report: \n",
      "               precision    recall  f1-score   support\n",
      "\n",
      "           0       0.68      0.78      0.73        41\n",
      "           1       0.80      0.70      0.74        50\n",
      "\n",
      "    accuracy                           0.74        91\n",
      "   macro avg       0.74      0.74      0.74        91\n",
      "weighted avg       0.74      0.74      0.74        91\n",
      "\n"
     ]
    }
   ],
   "source": [
    "mymodel(dt)"
   ]
  },
  {
   "cell_type": "code",
   "execution_count": 17,
   "id": "354b0f1c-fe5e-4451-aabb-b39332980b3c",
   "metadata": {},
   "outputs": [
    {
     "data": {
      "text/plain": [
       "1.0"
      ]
     },
     "execution_count": 17,
     "metadata": {},
     "output_type": "execute_result"
    }
   ],
   "source": [
    "#to check model overfitiing if yes or no\n",
    "dt.score(xtrain,ytrain)  #testing score should be more  so this is overfitting problem"
   ]
  },
  {
   "cell_type": "code",
   "execution_count": 18,
   "id": "351408fd-6156-4aa1-9069-cb5d73b90f1d",
   "metadata": {},
   "outputs": [
    {
     "data": {
      "text/plain": [
       "0.7362637362637363"
      ]
     },
     "execution_count": 18,
     "metadata": {},
     "output_type": "execute_result"
    }
   ],
   "source": [
    "dt.score(xtest,ytest)"
   ]
  },
  {
   "cell_type": "markdown",
   "id": "225bdcf4-cebf-4dd6-8ea8-ef8f74a225b5",
   "metadata": {},
   "source": [
    "# hypertuning in DT ....1.max_depth"
   ]
  },
  {
   "cell_type": "code",
   "execution_count": 19,
   "id": "2b372f84-c332-4bce-8166-4a8d836dbb8e",
   "metadata": {},
   "outputs": [
    {
     "name": "stdout",
     "output_type": "stream",
     "text": [
      "For max_depth=1  We get Accuracy= 0.6923076923076923\n",
      "For max_depth=2  We get Accuracy= 0.6923076923076923\n",
      "For max_depth=3  We get Accuracy= 0.7692307692307693\n",
      "For max_depth=4  We get Accuracy= 0.7252747252747253\n",
      "For max_depth=5  We get Accuracy= 0.7472527472527473\n",
      "For max_depth=6  We get Accuracy= 0.7252747252747253\n",
      "For max_depth=7  We get Accuracy= 0.7032967032967034\n",
      "For max_depth=8  We get Accuracy= 0.7252747252747253\n",
      "For max_depth=9  We get Accuracy= 0.7472527472527473\n",
      "For max_depth=10  We get Accuracy= 0.7362637362637363\n",
      "For max_depth=11  We get Accuracy= 0.7252747252747253\n",
      "For max_depth=12  We get Accuracy= 0.7032967032967034\n",
      "For max_depth=13  We get Accuracy= 0.7142857142857143\n",
      "For max_depth=14  We get Accuracy= 0.7142857142857143\n",
      "For max_depth=15  We get Accuracy= 0.7362637362637363\n"
     ]
    }
   ],
   "source": [
    "acc_list=[]\n",
    "depth_list=[]\n",
    "for i in range(1,16):\n",
    "    dt1=DecisionTreeClassifier(max_depth=i)\n",
    "    dt1.fit(xtrain,ytrain)\n",
    "    ypred=dt1.predict(xtest)\n",
    "    ac=accuracy_score(ytest,ypred)\n",
    "\n",
    "    depth_list.append(i)\n",
    "    acc_list.append(ac)\n",
    "\n",
    "    print(f\"For max_depth={i}  We get Accuracy= {ac}\")"
   ]
  },
  {
   "cell_type": "code",
   "execution_count": 20,
   "id": "f4de0488-f665-4611-91ff-cf46fb584fd1",
   "metadata": {},
   "outputs": [
    {
     "name": "stdout",
     "output_type": "stream",
     "text": [
      "Accuracy:  0.7362637362637363 \n",
      " \n",
      " Classification Report: \n",
      "               precision    recall  f1-score   support\n",
      "\n",
      "           0       0.67      0.83      0.74        41\n",
      "           1       0.82      0.66      0.73        50\n",
      "\n",
      "    accuracy                           0.74        91\n",
      "   macro avg       0.75      0.74      0.74        91\n",
      "weighted avg       0.75      0.74      0.74        91\n",
      "\n"
     ]
    }
   ],
   "source": [
    "dt2=DecisionTreeClassifier(max_depth=4)\n",
    "mymodel(dt2)"
   ]
  },
  {
   "cell_type": "code",
   "execution_count": 21,
   "id": "e5bc0277-73c5-47b2-ac4f-a9678c5393d3",
   "metadata": {},
   "outputs": [
    {
     "data": {
      "text/plain": [
       "0.910377358490566"
      ]
     },
     "execution_count": 21,
     "metadata": {},
     "output_type": "execute_result"
    }
   ],
   "source": [
    "dt2.score(xtrain,ytrain)"
   ]
  },
  {
   "cell_type": "markdown",
   "id": "b62b3981-0388-4cc4-a1c4-bd2331b3c088",
   "metadata": {},
   "source": [
    "# hypertuning in DT ....2.min_sample_split"
   ]
  },
  {
   "cell_type": "code",
   "execution_count": 22,
   "id": "588a0336-48bb-4d58-bbf0-2339bdd882f9",
   "metadata": {},
   "outputs": [
    {
     "name": "stdout",
     "output_type": "stream",
     "text": [
      "For max_depth=1  We get Accuracy= 0.7362637362637363\n",
      "For max_depth=2  We get Accuracy= 0.7362637362637363\n",
      "For max_depth=3  We get Accuracy= 0.7362637362637363\n",
      "For max_depth=4  We get Accuracy= 0.7252747252747253\n",
      "For max_depth=5  We get Accuracy= 0.7142857142857143\n",
      "For max_depth=6  We get Accuracy= 0.7472527472527473\n",
      "For max_depth=7  We get Accuracy= 0.7472527472527473\n",
      "For max_depth=8  We get Accuracy= 0.7252747252747253\n",
      "For max_depth=9  We get Accuracy= 0.7472527472527473\n",
      "For max_depth=10  We get Accuracy= 0.7252747252747253\n",
      "For max_depth=11  We get Accuracy= 0.7142857142857143\n",
      "For max_depth=12  We get Accuracy= 0.7362637362637363\n",
      "For max_depth=13  We get Accuracy= 0.7472527472527473\n",
      "For max_depth=14  We get Accuracy= 0.7032967032967034\n",
      "For max_depth=15  We get Accuracy= 0.7252747252747253\n",
      "For max_depth=16  We get Accuracy= 0.7362637362637363\n",
      "For max_depth=17  We get Accuracy= 0.7252747252747253\n",
      "For max_depth=18  We get Accuracy= 0.7142857142857143\n",
      "For max_depth=19  We get Accuracy= 0.7252747252747253\n",
      "For max_depth=20  We get Accuracy= 0.7252747252747253\n",
      "For max_depth=21  We get Accuracy= 0.7362637362637363\n",
      "For max_depth=22  We get Accuracy= 0.7252747252747253\n",
      "For max_depth=23  We get Accuracy= 0.7252747252747253\n",
      "For max_depth=24  We get Accuracy= 0.7362637362637363\n",
      "For max_depth=25  We get Accuracy= 0.7142857142857143\n",
      "For max_depth=26  We get Accuracy= 0.7142857142857143\n",
      "For max_depth=27  We get Accuracy= 0.7032967032967034\n",
      "For max_depth=28  We get Accuracy= 0.7142857142857143\n",
      "For max_depth=29  We get Accuracy= 0.7362637362637363\n",
      "For max_depth=30  We get Accuracy= 0.7362637362637363\n",
      "For max_depth=31  We get Accuracy= 0.7472527472527473\n",
      "For max_depth=32  We get Accuracy= 0.7142857142857143\n",
      "For max_depth=33  We get Accuracy= 0.6813186813186813\n",
      "For max_depth=34  We get Accuracy= 0.7362637362637363\n",
      "For max_depth=35  We get Accuracy= 0.7142857142857143\n",
      "For max_depth=36  We get Accuracy= 0.7142857142857143\n",
      "For max_depth=37  We get Accuracy= 0.7032967032967034\n",
      "For max_depth=38  We get Accuracy= 0.7252747252747253\n",
      "For max_depth=39  We get Accuracy= 0.7582417582417582\n",
      "For max_depth=40  We get Accuracy= 0.7142857142857143\n",
      "For max_depth=41  We get Accuracy= 0.7142857142857143\n",
      "For max_depth=42  We get Accuracy= 0.7472527472527473\n",
      "For max_depth=43  We get Accuracy= 0.7142857142857143\n",
      "For max_depth=44  We get Accuracy= 0.7472527472527473\n",
      "For max_depth=45  We get Accuracy= 0.7362637362637363\n",
      "For max_depth=46  We get Accuracy= 0.7032967032967034\n",
      "For max_depth=47  We get Accuracy= 0.7252747252747253\n",
      "For max_depth=48  We get Accuracy= 0.7252747252747253\n",
      "For max_depth=49  We get Accuracy= 0.7362637362637363\n"
     ]
    }
   ],
   "source": [
    "acc_list=[]\n",
    "n_sample_split_list=[]\n",
    "for i in range(1,50):\n",
    "    dt3=DecisionTreeClassifier(min_samples_split=2)\n",
    "    dt3.fit(xtrain,ytrain)\n",
    "    ypred=dt3.predict(xtest)\n",
    "    ac=accuracy_score(ytest,ypred)\n",
    "\n",
    "    n_sample_split_list.append(i)\n",
    "    acc_list.append(ac)\n",
    "\n",
    "    print(f\"For max_depth={i}  We get Accuracy= {ac}\")"
   ]
  },
  {
   "cell_type": "code",
   "execution_count": 24,
   "id": "47090e48-5b57-43af-a1d9-84473a2d0f51",
   "metadata": {},
   "outputs": [
    {
     "name": "stdout",
     "output_type": "stream",
     "text": [
      "Accuracy:  0.7252747252747253 \n",
      " \n",
      " Classification Report: \n",
      "               precision    recall  f1-score   support\n",
      "\n",
      "           0       0.65      0.83      0.73        41\n",
      "           1       0.82      0.64      0.72        50\n",
      "\n",
      "    accuracy                           0.73        91\n",
      "   macro avg       0.74      0.73      0.73        91\n",
      "weighted avg       0.75      0.73      0.72        91\n",
      "\n"
     ]
    }
   ],
   "source": [
    "dt3=DecisionTreeClassifier(max_depth=4)\n",
    "mymodel(dt3)"
   ]
  },
  {
   "cell_type": "code",
   "execution_count": 25,
   "id": "1ff834b7-f644-4134-8257-3a43d003bdef",
   "metadata": {},
   "outputs": [
    {
     "data": {
      "text/plain": [
       "0.910377358490566"
      ]
     },
     "execution_count": 25,
     "metadata": {},
     "output_type": "execute_result"
    }
   ],
   "source": [
    "dt3.score(xtrain,ytrain)"
   ]
  },
  {
   "cell_type": "markdown",
   "id": "42ea2512-be6e-4474-942a-7abbfb0e713b",
   "metadata": {},
   "source": [
    "# hypertuning in DT ....2.min_sample_leaf"
   ]
  },
  {
   "cell_type": "code",
   "execution_count": 27,
   "id": "5f30b0da-b13f-4cb3-a4eb-28d2b21b59d1",
   "metadata": {},
   "outputs": [
    {
     "name": "stdout",
     "output_type": "stream",
     "text": [
      "For min_sample_leaf=1  We get Accuracy= 0.7472527472527473\n",
      "For min_sample_leaf=2  We get Accuracy= 0.7032967032967034\n",
      "For min_sample_leaf=3  We get Accuracy= 0.7472527472527473\n",
      "For min_sample_leaf=4  We get Accuracy= 0.7692307692307693\n",
      "For min_sample_leaf=5  We get Accuracy= 0.7142857142857143\n",
      "For min_sample_leaf=6  We get Accuracy= 0.7142857142857143\n",
      "For min_sample_leaf=7  We get Accuracy= 0.7142857142857143\n",
      "For min_sample_leaf=8  We get Accuracy= 0.7142857142857143\n",
      "For min_sample_leaf=9  We get Accuracy= 0.7692307692307693\n",
      "For min_sample_leaf=10  We get Accuracy= 0.8021978021978022\n",
      "For min_sample_leaf=11  We get Accuracy= 0.8021978021978022\n",
      "For min_sample_leaf=12  We get Accuracy= 0.8021978021978022\n",
      "For min_sample_leaf=13  We get Accuracy= 0.8021978021978022\n",
      "For min_sample_leaf=14  We get Accuracy= 0.8021978021978022\n",
      "For min_sample_leaf=15  We get Accuracy= 0.8021978021978022\n",
      "For min_sample_leaf=16  We get Accuracy= 0.7802197802197802\n",
      "For min_sample_leaf=17  We get Accuracy= 0.7802197802197802\n",
      "For min_sample_leaf=18  We get Accuracy= 0.7032967032967034\n",
      "For min_sample_leaf=19  We get Accuracy= 0.7032967032967034\n",
      "For min_sample_leaf=20  We get Accuracy= 0.6923076923076923\n",
      "For min_sample_leaf=21  We get Accuracy= 0.6923076923076923\n",
      "For min_sample_leaf=22  We get Accuracy= 0.6923076923076923\n",
      "For min_sample_leaf=23  We get Accuracy= 0.6923076923076923\n",
      "For min_sample_leaf=24  We get Accuracy= 0.6923076923076923\n",
      "For min_sample_leaf=25  We get Accuracy= 0.6923076923076923\n",
      "For min_sample_leaf=26  We get Accuracy= 0.6923076923076923\n",
      "For min_sample_leaf=27  We get Accuracy= 0.6923076923076923\n",
      "For min_sample_leaf=28  We get Accuracy= 0.6923076923076923\n",
      "For min_sample_leaf=29  We get Accuracy= 0.6923076923076923\n",
      "For min_sample_leaf=30  We get Accuracy= 0.6923076923076923\n",
      "For min_sample_leaf=31  We get Accuracy= 0.6923076923076923\n",
      "For min_sample_leaf=32  We get Accuracy= 0.6923076923076923\n",
      "For min_sample_leaf=33  We get Accuracy= 0.6923076923076923\n",
      "For min_sample_leaf=34  We get Accuracy= 0.6923076923076923\n",
      "For min_sample_leaf=35  We get Accuracy= 0.6923076923076923\n",
      "For min_sample_leaf=36  We get Accuracy= 0.6923076923076923\n",
      "For min_sample_leaf=37  We get Accuracy= 0.6923076923076923\n",
      "For min_sample_leaf=38  We get Accuracy= 0.6923076923076923\n",
      "For min_sample_leaf=39  We get Accuracy= 0.6923076923076923\n",
      "For min_sample_leaf=40  We get Accuracy= 0.6923076923076923\n",
      "For min_sample_leaf=41  We get Accuracy= 0.6923076923076923\n",
      "For min_sample_leaf=42  We get Accuracy= 0.6923076923076923\n",
      "For min_sample_leaf=43  We get Accuracy= 0.6923076923076923\n",
      "For min_sample_leaf=44  We get Accuracy= 0.6923076923076923\n",
      "For min_sample_leaf=45  We get Accuracy= 0.6923076923076923\n",
      "For min_sample_leaf=46  We get Accuracy= 0.6923076923076923\n",
      "For min_sample_leaf=47  We get Accuracy= 0.6923076923076923\n",
      "For min_sample_leaf=48  We get Accuracy= 0.6923076923076923\n",
      "For min_sample_leaf=49  We get Accuracy= 0.6923076923076923\n"
     ]
    }
   ],
   "source": [
    "acc_list=[]\n",
    "min_sample_leaf_list=[]\n",
    "for i in range(1,50):\n",
    "    dt4=DecisionTreeClassifier(min_samples_leaf=i)\n",
    "    dt4.fit(xtrain,ytrain)\n",
    "    ypred=dt4.predict(xtest)\n",
    "    ac=accuracy_score(ytest,ypred)\n",
    "\n",
    "    min_sample_leaf_list.append(i)\n",
    "    acc_list.append(ac)\n",
    "\n",
    "    print(f\"For min_sample_leaf={i}  We get Accuracy= {ac}\")"
   ]
  },
  {
   "cell_type": "code",
   "execution_count": 30,
   "id": "59ac56e7-da92-4f13-8045-bf67672bde7e",
   "metadata": {},
   "outputs": [
    {
     "name": "stdout",
     "output_type": "stream",
     "text": [
      "Accuracy:  0.6923076923076923 \n",
      " \n",
      " Classification Report: \n",
      "               precision    recall  f1-score   support\n",
      "\n",
      "           0       0.61      0.85      0.71        41\n",
      "           1       0.82      0.56      0.67        50\n",
      "\n",
      "    accuracy                           0.69        91\n",
      "   macro avg       0.72      0.71      0.69        91\n",
      "weighted avg       0.73      0.69      0.69        91\n",
      "\n"
     ]
    }
   ],
   "source": [
    "dt4=DecisionTreeClassifier(max_depth=2)\n",
    "mymodel(dt4)"
   ]
  },
  {
   "cell_type": "code",
   "execution_count": 31,
   "id": "10e1467d-3298-4e71-bdfe-abd766a7358b",
   "metadata": {},
   "outputs": [
    {
     "data": {
      "text/plain": [
       "0.7971698113207547"
      ]
     },
     "execution_count": 31,
     "metadata": {},
     "output_type": "execute_result"
    }
   ],
   "source": [
    "dt4.score(xtrain,ytrain)"
   ]
  },
  {
   "cell_type": "code",
   "execution_count": null,
   "id": "45f54f85-e6ed-4bf1-ba02-2c77cab90858",
   "metadata": {},
   "outputs": [],
   "source": []
  }
 ],
 "metadata": {
  "kernelspec": {
   "display_name": "Python 3 (ipykernel)",
   "language": "python",
   "name": "python3"
  },
  "language_info": {
   "codemirror_mode": {
    "name": "ipython",
    "version": 3
   },
   "file_extension": ".py",
   "mimetype": "text/x-python",
   "name": "python",
   "nbconvert_exporter": "python",
   "pygments_lexer": "ipython3",
   "version": "3.12.4"
  }
 },
 "nbformat": 4,
 "nbformat_minor": 5
}
